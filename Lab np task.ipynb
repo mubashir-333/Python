{
 "cells": [
  {
   "cell_type": "markdown",
   "metadata": {},
   "source": [
    "TASK-1\n",
    "ANS:"
   ]
  },
  {
   "cell_type": "markdown",
   "metadata": {},
   "source": [
    "\n",
    "\n",
    "NumPy (Numerical Python) is a library for working with arrays and mathematical operations in Python. It is a fundamental package for scientific computing and data analysis in Python.\n",
    "\n",
    "Research and write a short explanation aNumPybout.\n",
    "ANS:\n",
    "\n",
    "Matrix operations: NumPy supports matrix multiplication, matrix transpose, and other matrix operations.\n",
    "Data analysis: NumPy provides an efficient way to manipulate and analyze large datasets\n"
   ]
  },
  {
   "cell_type": "markdown",
   "metadata": {},
   "source": []
  },
  {
   "cell_type": "markdown",
   "metadata": {},
   "source": [
    "TASK-2\n",
    "ANS:"
   ]
  },
  {
   "cell_type": "markdown",
   "metadata": {},
   "source": [
    " Why Use NumPy?\n",
    "Write a few reasons why NumPy is useful.\n",
    "ANS:\n",
    "1. Fast Array Operations: NumPy ki vectorized operations Python lists se zyada tez hain.\n",
    "2. Optimized C Code: NumPy ka core C mein likha gaya hai, jis se numerical computations mein efficiency milta hai.\n",
    "1. Multi-Dimensional Arrays: NumPy ka ndarray multi-dimensional arrays ko support karta hai, jis se data analysis aur scientific computing mein madad milta hai.\n",
    "2. Integration with Other Libraries: NumPy Pandas, Matplotlib, aur Scikit-learn jaise popular libraries ke saath seamlessly integrate hota hai"
   ]
  },
  {
   "cell_type": "markdown",
   "metadata": {},
   "source": [
    "TASK-3\n",
    "ANS:"
   ]
  },
  {
   "cell_type": "code",
   "execution_count": 1,
   "metadata": {},
   "outputs": [
    {
     "name": "stdout",
     "output_type": "stream",
     "text": [
      "List operation time: 0.086768 seconds\n",
      "NumPy array operation time: 0.000997 seconds\n"
     ]
    }
   ],
   "source": [
    "import numpy as np\n",
    "import time\n",
    "\n",
    "# Create a large list\n",
    "list_size = 1000000\n",
    "my_list = list(range(list_size))\n",
    "\n",
    "# Create a NumPy array of the same size\n",
    "my_array = np.arange(list_size)\n",
    "\n",
    "# Measure time for list operation\n",
    "start_time = time.time()\n",
    "result_list = [x**2 for x in my_list]\n",
    "end_time = time.time()\n",
    "list_time = end_time - start_time\n",
    "\n",
    "# Measure time for NumPy array operation\n",
    "start_time = time.time()\n",
    "result_array = my_array**2\n",
    "end_time = time.time()\n",
    "array_time = end_time - start_time\n",
    "\n",
    "print(f\"List operation time: {list_time:.6f} seconds\")\n",
    "print(f\"NumPy array operation time: {array_time:.6f} seconds\")"
   ]
  },
  {
   "cell_type": "markdown",
   "metadata": {},
   "source": [
    "TASK-4\n",
    "ANS:"
   ]
  },
  {
   "cell_type": "markdown",
   "metadata": {},
   "source": [
    "1. C\n",
    "\n",
    "2. Python\n",
    "\n",
    "3. Cython\n",
    "\n",
    "4. Fortran"
   ]
  },
  {
   "cell_type": "markdown",
   "metadata": {},
   "source": [
    "TASK-5\n",
    "ANS:"
   ]
  },
  {
   "cell_type": "markdown",
   "metadata": {},
   "source": [
    "To install Numble using pip, use the following command.\n",
    "\n",
    "pip install numpy"
   ]
  },
  {
   "cell_type": "markdown",
   "metadata": {},
   "source": [
    "TASK-6\n",
    "ANS:"
   ]
  },
  {
   "cell_type": "markdown",
   "metadata": {},
   "source": [
    "0-Dimensional Array\n",
    " (Scalar)"
   ]
  },
  {
   "cell_type": "code",
   "execution_count": 2,
   "metadata": {},
   "outputs": [
    {
     "name": "stdout",
     "output_type": "stream",
     "text": [
      "5\n"
     ]
    }
   ],
   "source": [
    "\n",
    "import numpy as np\n",
    "array_0d = np.array(5)\n",
    "print(array_0d)"
   ]
  },
  {
   "cell_type": "markdown",
   "metadata": {},
   "source": [
    "1-Dimensional Array (Vector)"
   ]
  },
  {
   "cell_type": "code",
   "execution_count": 3,
   "metadata": {},
   "outputs": [
    {
     "name": "stdout",
     "output_type": "stream",
     "text": [
      "[1 2 3 4 5]\n"
     ]
    }
   ],
   "source": [
    "array_1d = np.array([1, 2, 3, 4, 5])\n",
    "print(array_1d)"
   ]
  },
  {
   "cell_type": "markdown",
   "metadata": {},
   "source": [
    "2-Dimensional Array (Matrix)"
   ]
  },
  {
   "cell_type": "code",
   "execution_count": 4,
   "metadata": {},
   "outputs": [
    {
     "name": "stdout",
     "output_type": "stream",
     "text": [
      "[[1 2]\n",
      " [3 4]]\n"
     ]
    }
   ],
   "source": [
    "array_2d = np.array([[1, 2], [3, 4]])\n",
    "print(array_2d)"
   ]
  },
  {
   "cell_type": "markdown",
   "metadata": {},
   "source": [
    "\n",
    "3-Dimensional Array"
   ]
  },
  {
   "cell_type": "code",
   "execution_count": 5,
   "metadata": {},
   "outputs": [
    {
     "name": "stdout",
     "output_type": "stream",
     "text": [
      "[[[1 2]\n",
      "  [3 4]]\n",
      "\n",
      " [[5 6]\n",
      "  [7 8]]]\n"
     ]
    }
   ],
   "source": [
    "array_3d = np.array([[[1, 2], [3, 4]], [[5, 6], [7, 8]]])\n",
    "print(array_3d)"
   ]
  },
  {
   "cell_type": "markdown",
   "metadata": {},
   "source": [
    "TASK-7\n",
    "ANS:"
   ]
  },
  {
   "cell_type": "markdown",
   "metadata": {},
   "source": [
    "Copy Functions\n",
    "- np.copy(): Creates a deep copy of an array"
   ]
  },
  {
   "cell_type": "code",
   "execution_count": 6,
   "metadata": {},
   "outputs": [
    {
     "name": "stdout",
     "output_type": "stream",
     "text": [
      "[1 2 3]\n"
     ]
    }
   ],
   "source": [
    "import numpy as np\n",
    "array = np.array([1, 2, 3])\n",
    "copy_array = np.copy(array)\n",
    "print(copy_array)"
   ]
  },
  {
   "cell_type": "markdown",
   "metadata": {},
   "source": [
    "\n",
    "View Functions\n",
    "- np.view(): Creates a new view of an array."
   ]
  },
  {
   "cell_type": "code",
   "execution_count": 7,
   "metadata": {},
   "outputs": [
    {
     "name": "stdout",
     "output_type": "stream",
     "text": [
      "[1 2 3]\n"
     ]
    }
   ],
   "source": [
    "array = np.array([1, 2, 3])\n",
    "view_array = array.view()\n",
    "print(view_array)"
   ]
  },
  {
   "cell_type": "markdown",
   "metadata": {},
   "source": [
    "TASK-8\n",
    "ANS:"
   ]
  },
  {
   "cell_type": "markdown",
   "metadata": {},
   "source": [
    "Vertical Stacking\n",
    "np.vstack((array1, array2))\n",
    "\n",
    "Horizontal Stacking\n",
    "np.hstack((array1, array2))\n",
    "\n",
    "\n",
    "Concatenation\n",
    "np.concatenate((array1, array2))"
   ]
  },
  {
   "cell_type": "markdown",
   "metadata": {},
   "source": []
  },
  {
   "cell_type": "code",
   "execution_count": 9,
   "metadata": {},
   "outputs": [
    {
     "name": "stdout",
     "output_type": "stream",
     "text": [
      "[1 2 3 4 5 6]\n"
     ]
    }
   ],
   "source": [
    "import numpy as np\n",
    "array1 = np.array([1, 2, 3])\n",
    "array2 = np.array([4, 5, 6])\n",
    "joined_array = np.concatenate((array1, array2))\n",
    "print(joined_array) "
   ]
  },
  {
   "cell_type": "markdown",
   "metadata": {},
   "source": [
    "TASK-9\n",
    "ANS:"
   ]
  },
  {
   "cell_type": "markdown",
   "metadata": {},
   "source": [
    "Vertical Stacking\n",
    "np.vstack((array1, array2))\n",
    "\n",
    "Horizontal Stacking\n",
    "np.hstack((array1, array2))\n",
    "\n",
    "Depth Stacking\n",
    "np.dstack((array1, array2))"
   ]
  },
  {
   "cell_type": "code",
   "execution_count": 10,
   "metadata": {},
   "outputs": [
    {
     "name": "stdout",
     "output_type": "stream",
     "text": [
      "[[1 2 3]\n",
      " [4 5 6]]\n"
     ]
    }
   ],
   "source": [
    "import numpy as np\n",
    "array1 = np.array([1, 2, 3])\n",
    "array2 = np.array([4, 5, 6])\n",
    "joined_array = np.vstack((array1, array2))\n",
    "print(joined_array)"
   ]
  },
  {
   "cell_type": "markdown",
   "metadata": {},
   "source": [
    "TASK-10\n",
    "ANS:"
   ]
  },
  {
   "cell_type": "markdown",
   "metadata": {},
   "source": [
    "\n",
    "Horizontal Splitting\n",
    "np.hsplit(array, indices)\n",
    "\n",
    "Vertical Splitting\n",
    "np.vsplit(array, indices)\n",
    "\n",
    "Depth Splitting\n",
    "np.dsplit(array, indices)\n",
    "\n",
    "Splitting into Arrays of Equal Size\n",
    "np.array_split(array, num_subarrays)"
   ]
  },
  {
   "cell_type": "code",
   "execution_count": 12,
   "metadata": {},
   "outputs": [
    {
     "name": "stdout",
     "output_type": "stream",
     "text": [
      "[array([[1, 2],\n",
      "       [5, 6]]), array([[3, 4],\n",
      "       [7, 8]])]\n"
     ]
    }
   ],
   "source": [
    "import numpy as np\n",
    "array = np.array([[1, 2, 3, 4], [5, 6, 7, 8]])\n",
    "split_array = np.hsplit(array, 2)\n",
    "print(split_array)"
   ]
  },
  {
   "cell_type": "markdown",
   "metadata": {},
   "source": [
    "TASK-11\n",
    "ANS:"
   ]
  },
  {
   "cell_type": "markdown",
   "metadata": {},
   "source": [
    "- np.where(): \n",
    "- np.searchsorted()\n",
    "- np.argwhere()\n",
    "- np.nonzero()"
   ]
  },
  {
   "cell_type": "code",
   "execution_count": 13,
   "metadata": {},
   "outputs": [
    {
     "name": "stdout",
     "output_type": "stream",
     "text": [
      "(array([3, 4], dtype=int64),)\n"
     ]
    }
   ],
   "source": [
    "import numpy as np\n",
    "array = np.array([1, 2, 3, 4, 5])\n",
    "indices = np.where(array > 3)\n",
    "print(indices)"
   ]
  },
  {
   "cell_type": "markdown",
   "metadata": {},
   "source": [
    "DESIRED OUTPUT:"
   ]
  },
  {
   "cell_type": "code",
   "execution_count": 14,
   "metadata": {},
   "outputs": [
    {
     "name": "stdout",
     "output_type": "stream",
     "text": [
      "Time taken by list: 0.04351449012756348\n",
      "Time taken by NumPy: 0.0019958019256591797\n",
      "1D Array: [1 2 3]\n",
      "2D Array: [[1 2 3]\n",
      " [4 5 6]]\n",
      "3D Array: [[[1 2]\n",
      "  [3 4]]\n",
      "\n",
      " [[5 6]\n",
      "  [7 8]]]\n",
      "Original: [99 20 30]\n",
      "Copy: [10 20 30]\n",
      "View: [99 20 30]\n",
      "Joined Array: [1 2 3 4 5 6]\n",
      "Stacked Vertically: [[1 2 3]\n",
      " [4 5 6]]\n",
      "Stacked Horizontally: [1 2 3 4 5 6]\n",
      "Stacked Depth: [[[1 4]\n",
      "  [2 5]\n",
      "  [3 6]]]\n",
      "Split Arrays: [array([1, 2]), array([3, 4]), array([5, 6])]\n",
      "Index of value 3 in joined_array: (array([2], dtype=int64),)\n"
     ]
    }
   ],
   "source": [
    "import numpy as np\n",
    "import time\n",
    "import copy\n",
    "\n",
    "# Time taken by list vs NumPy\n",
    "list_size = 1000000\n",
    "start_time = time.time()\n",
    "list_example = list(range(list_size))\n",
    "end_time = time.time()\n",
    "list_time = end_time - start_time\n",
    "\n",
    "start_time = time.time()\n",
    "array_example = np.arange(list_size)\n",
    "end_time = time.time()\n",
    "array_time = end_time - start_time\n",
    "\n",
    "print(f\"Time taken by list: {list_time}\")\n",
    "print(f\"Time taken by NumPy: {array_time}\")\n",
    "\n",
    "# Creating arrays of different dimensions\n",
    "array_1d = np.array([1, 2, 3])\n",
    "array_2d = np.array([[1, 2, 3], [4, 5, 6]])\n",
    "array_3d = np.array([[[1, 2], [3, 4]], [[5, 6], [7, 8]]])\n",
    "\n",
    "print(f\"1D Array: {array_1d}\")\n",
    "print(f\"2D Array: {array_2d}\")\n",
    "print(f\"3D Array: {array_3d}\")\n",
    "\n",
    "# Copy and view\n",
    "original_array = np.array([99, 20, 30])\n",
    "copy_array = copy.copy(original_array)\n",
    "copy_array[0] = 10\n",
    "view_array = original_array.view()\n",
    "\n",
    "print(f\"Original: {original_array}\")\n",
    "print(f\"Copy: {copy_array}\")\n",
    "print(f\"View: {view_array}\")\n",
    "\n",
    "# Joining arrays\n",
    "joined_array = np.concatenate((np.array([1, 2, 3]), np.array([4, 5, 6])))\n",
    "\n",
    "print(f\"Joined Array: {joined_array}\")\n",
    "\n",
    "# Stacking arrays\n",
    "stacked_vertically = np.vstack((np.array([1, 2, 3]), np.array([4, 5, 6])))\n",
    "stacked_horizontally = np.hstack((np.array([1, 2, 3]), np.array([4, 5, 6])))\n",
    "stacked_depth = np.dstack((np.array([1, 2, 3]), np.array([4, 5, 6])))\n",
    "\n",
    "print(f\"Stacked Vertically: {stacked_vertically}\")\n",
    "print(f\"Stacked Horizontally: {stacked_horizontally}\")\n",
    "print(f\"Stacked Depth: {stacked_depth}\")\n",
    "\n",
    "# Splitting arrays\n",
    "split_arrays = np.split(np.array([1, 2, 3, 4, 5, 6]), 3)\n",
    "\n",
    "print(f\"Split Arrays: {split_arrays}\")\n",
    "\n",
    "# Finding index of value in joined_array\n",
    "index = np.where(joined_array == 3)\n",
    "\n",
    "print(f\"Index of value 3 in joined_array: {index}\")"
   ]
  },
  {
   "cell_type": "markdown",
   "metadata": {},
   "source": []
  }
 ],
 "metadata": {
  "kernelspec": {
   "display_name": "base",
   "language": "python",
   "name": "python3"
  },
  "language_info": {
   "codemirror_mode": {
    "name": "ipython",
    "version": 3
   },
   "file_extension": ".py",
   "mimetype": "text/x-python",
   "name": "python",
   "nbconvert_exporter": "python",
   "pygments_lexer": "ipython3",
   "version": "3.12.7"
  }
 },
 "nbformat": 4,
 "nbformat_minor": 2
}
