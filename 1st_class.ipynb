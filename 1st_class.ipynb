{
  "nbformat": 4,
  "nbformat_minor": 0,
  "metadata": {
    "colab": {
      "provenance": []
    },
    "kernelspec": {
      "name": "python3",
      "display_name": "Python 3"
    },
    "language_info": {
      "name": "python"
    }
  },
  "cells": [
    {
      "cell_type": "code",
      "execution_count": 1,
      "metadata": {
        "colab": {
          "base_uri": "https://localhost:8080/"
        },
        "id": "b90RQ46n19tC",
        "outputId": "d58dc6af-a939-479f-e44c-ebe07ebf69fd"
      },
      "outputs": [
        {
          "output_type": "stream",
          "name": "stdout",
          "text": [
            "1st class\n"
          ]
        }
      ],
      "source": [
        "print('1st class')"
      ]
    },
    {
      "cell_type": "code",
      "source": [
        "print(1)"
      ],
      "metadata": {
        "colab": {
          "base_uri": "https://localhost:8080/"
        },
        "id": "tDdqoALU2ihw",
        "outputId": "53d3db5a-125d-4c9c-c89f-92d85fb9d581"
      },
      "execution_count": 2,
      "outputs": [
        {
          "output_type": "stream",
          "name": "stdout",
          "text": [
            "1\n"
          ]
        }
      ]
    },
    {
      "cell_type": "code",
      "source": [
        "#variables"
      ],
      "metadata": {
        "id": "RnrAADL92mUJ"
      },
      "execution_count": 5,
      "outputs": []
    },
    {
      "cell_type": "code",
      "source": [
        "# intiger\n",
        "a=1"
      ],
      "metadata": {
        "id": "DjPBZsYf2sUB"
      },
      "execution_count": 36,
      "outputs": []
    },
    {
      "cell_type": "code",
      "source": [
        "type(a)"
      ],
      "metadata": {
        "colab": {
          "base_uri": "https://localhost:8080/"
        },
        "id": "nLYMKVN523Lt",
        "outputId": "8e410a37-6d10-4ab8-d14f-2b34722c77e2"
      },
      "execution_count": 7,
      "outputs": [
        {
          "output_type": "execute_result",
          "data": {
            "text/plain": [
              "int"
            ]
          },
          "metadata": {},
          "execution_count": 7
        }
      ]
    },
    {
      "cell_type": "code",
      "source": [
        "# Float\n",
        "b=1.5"
      ],
      "metadata": {
        "id": "hXqSK8Vx29j6"
      },
      "execution_count": 10,
      "outputs": []
    },
    {
      "cell_type": "code",
      "source": [
        "type(b)"
      ],
      "metadata": {
        "colab": {
          "base_uri": "https://localhost:8080/"
        },
        "id": "KiIGMkle3C4e",
        "outputId": "8c8a71ce-35c1-432d-f13e-20cb88eca51e"
      },
      "execution_count": 9,
      "outputs": [
        {
          "output_type": "execute_result",
          "data": {
            "text/plain": [
              "float"
            ]
          },
          "metadata": {},
          "execution_count": 9
        }
      ]
    },
    {
      "cell_type": "code",
      "source": [
        "# Strings\n",
        "c='a'"
      ],
      "metadata": {
        "id": "UWbbamV03EeR"
      },
      "execution_count": 11,
      "outputs": []
    },
    {
      "cell_type": "code",
      "source": [
        "type(c)"
      ],
      "metadata": {
        "colab": {
          "base_uri": "https://localhost:8080/"
        },
        "id": "LqpADxR83OGn",
        "outputId": "0751ac70-fc29-4d58-d64c-2da40eb5d512"
      },
      "execution_count": 12,
      "outputs": [
        {
          "output_type": "execute_result",
          "data": {
            "text/plain": [
              "str"
            ]
          },
          "metadata": {},
          "execution_count": 12
        }
      ]
    },
    {
      "cell_type": "code",
      "source": [
        "# List\n",
        "d=[1,2,3]"
      ],
      "metadata": {
        "id": "_6oJz9Sr3PwS"
      },
      "execution_count": 18,
      "outputs": []
    },
    {
      "cell_type": "code",
      "source": [
        "type(d)"
      ],
      "metadata": {
        "colab": {
          "base_uri": "https://localhost:8080/"
        },
        "id": "N_eKc6rg3VxV",
        "outputId": "53ab0fed-2830-44a1-8c42-eb7c53f02b00"
      },
      "execution_count": 19,
      "outputs": [
        {
          "output_type": "execute_result",
          "data": {
            "text/plain": [
              "list"
            ]
          },
          "metadata": {},
          "execution_count": 19
        }
      ]
    },
    {
      "cell_type": "code",
      "source": [
        "d[1]"
      ],
      "metadata": {
        "colab": {
          "base_uri": "https://localhost:8080/"
        },
        "id": "lxu1Ls3x3ajm",
        "outputId": "28f70fa4-86b6-4a42-ef68-ba556b10f13e"
      },
      "execution_count": 23,
      "outputs": [
        {
          "output_type": "execute_result",
          "data": {
            "text/plain": [
              "2"
            ]
          },
          "metadata": {},
          "execution_count": 23
        }
      ]
    },
    {
      "cell_type": "code",
      "source": [
        "e=int(input('enter a number'))"
      ],
      "metadata": {
        "colab": {
          "base_uri": "https://localhost:8080/"
        },
        "id": "xiX7RtR130A5",
        "outputId": "918025f4-4dab-42ff-c127-a549bb8bc2dc"
      },
      "execution_count": 26,
      "outputs": [
        {
          "name": "stdout",
          "output_type": "stream",
          "text": [
            "enter a number5\n"
          ]
        }
      ]
    },
    {
      "cell_type": "code",
      "source": [
        "print(e)"
      ],
      "metadata": {
        "colab": {
          "base_uri": "https://localhost:8080/"
        },
        "id": "kWRpHGx64GNV",
        "outputId": "4a0d9557-496a-4fa4-e124-b5b9b445e271"
      },
      "execution_count": 27,
      "outputs": [
        {
          "output_type": "stream",
          "name": "stdout",
          "text": [
            "5\n"
          ]
        }
      ]
    },
    {
      "cell_type": "code",
      "source": [],
      "metadata": {
        "id": "1K67jHzv4KPH"
      },
      "execution_count": 27,
      "outputs": []
    },
    {
      "cell_type": "code",
      "source": [
        "# calculator"
      ],
      "metadata": {
        "id": "ol49XV884SF2"
      },
      "execution_count": 28,
      "outputs": []
    },
    {
      "cell_type": "code",
      "source": [
        "# two variables\n",
        "# number of operators\n",
        "# variables must be user inputed"
      ],
      "metadata": {
        "id": "CtZc_uWG4URX"
      },
      "execution_count": 29,
      "outputs": []
    },
    {
      "cell_type": "code",
      "source": [
        "a=0;\n",
        "b=0;\n",
        "# +-/*%\n",
        "a=float(input('Enter first Number: '))\n",
        "b=float(input('Enter second Number: '))\n"
      ],
      "metadata": {
        "colab": {
          "base_uri": "https://localhost:8080/"
        },
        "id": "ZhWDNkiy4g6L",
        "outputId": "cb8c0fbb-b867-4d18-c983-b25b656196a2"
      },
      "execution_count": 38,
      "outputs": [
        {
          "name": "stdout",
          "output_type": "stream",
          "text": [
            "Enter first Number: 4.5\n",
            "Enter second Number: 6.7\n"
          ]
        }
      ]
    },
    {
      "cell_type": "code",
      "source": [
        "operator=int(input(\"Enter Number of operator: \\n 1.Addition \\n 2.Subtraction \\n 3.Multiplication \\n 4.Division \\n 5.Modulus\\n\"))"
      ],
      "metadata": {
        "colab": {
          "base_uri": "https://localhost:8080/"
        },
        "id": "yaXj1bLl49pP",
        "outputId": "32b32956-ba58-42dd-bee8-0dcadeedc8c4"
      },
      "execution_count": 46,
      "outputs": [
        {
          "name": "stdout",
          "output_type": "stream",
          "text": [
            "Enter Number of operator: \n",
            " 1.Addition \n",
            " 2.Subtraction \n",
            " 3.Multiplication \n",
            " 4.Division \n",
            " 5.Modulus\n",
            "5\n"
          ]
        }
      ]
    },
    {
      "cell_type": "code",
      "source": [
        "# Conditions\n",
        "if operator==1:\n",
        "    print('A=',a,\"B=\",b,\"A+B=\",a+b)\n",
        "elif operator==2:\n",
        "    print('A=',a,\"B=\",b,\"A-B=\",a-b)\n",
        "elif operator==3:\n",
        "    print('A=',a,\"B=\",b,\"A*B=\",a*b)\n",
        "elif operator==4:\n",
        "    print('A=',a,\"B=\",b,\"A/B=\",a/b)\n",
        "    # if user enters 0 as denominator system must promt user to change the value\n",
        "\n",
        "elif operator==5:\n",
        "    print('A=',a,\"B=\",b,\"A%B=\",a%b)\n",
        "else:\n",
        "    print('Invalid Operator')"
      ],
      "metadata": {
        "colab": {
          "base_uri": "https://localhost:8080/"
        },
        "id": "-5XeP_7m5fs2",
        "outputId": "20cc63bb-8d81-431e-ae1c-e9be6a788de1"
      },
      "execution_count": 50,
      "outputs": [
        {
          "output_type": "stream",
          "name": "stdout",
          "text": [
            "A= 4.5 B= 6.7 A%B= 4.5\n"
          ]
        }
      ]
    },
    {
      "cell_type": "code",
      "source": [
        "5%2"
      ],
      "metadata": {
        "colab": {
          "base_uri": "https://localhost:8080/"
        },
        "id": "J-iZDlY16aUW",
        "outputId": "ce8edca0-3b5b-4c64-962f-86473a7913df"
      },
      "execution_count": 49,
      "outputs": [
        {
          "output_type": "execute_result",
          "data": {
            "text/plain": [
              "1"
            ]
          },
          "metadata": {},
          "execution_count": 49
        }
      ]
    },
    {
      "cell_type": "code",
      "source": [
        "# prompt: simple calculator\n",
        "\n",
        "# calculator\n",
        "# two variables\n",
        "# number of operators\n",
        "# variables must be user inputed\n",
        "\n",
        "a = 0\n",
        "b = 0\n",
        "# +-/*%\n",
        "\n",
        "try:\n",
        "  a = float(input('Enter first Number: '))\n",
        "  b = float(input('Enter second Number: '))\n",
        "  operator = int(input(\"Enter Number of operator: \\n 1.Addition \\n 2.Subtraction \\n 3.Multiplication \\n 4.Division \\n 5.Modulus\\n\"))\n",
        "\n",
        "  # Conditions\n",
        "  if operator == 1:\n",
        "      print('A=', a, \"B=\", b, \"A+B=\", a + b)\n",
        "  elif operator == 2:\n",
        "      print('A=', a, \"B=\", b, \"A-B=\", a - b)\n",
        "  elif operator == 3:\n",
        "      print('A=', a, \"B=\", b, \"A*B=\", a * b)\n",
        "  elif operator == 4:\n",
        "      if b == 0:\n",
        "          print(\"Error: Division by zero\")\n",
        "      else:\n",
        "          print('A=', a, \"B=\", b, \"A/B=\", a / b)\n",
        "  elif operator == 5:\n",
        "      print('A=', a, \"B=\", b, \"A%B=\", a % b)\n",
        "  else:\n",
        "      print('Invalid Operator')\n",
        "except ValueError:\n",
        "  print(\"Invalid input. Please enter numbers only.\")\n",
        "except Exception as e:\n",
        "  print(f\"An error occurred: {e}\")"
      ],
      "metadata": {
        "colab": {
          "base_uri": "https://localhost:8080/"
        },
        "id": "Fsz2a9J97guY",
        "outputId": "e859a231-03f9-453c-a29f-d6fa576c302f"
      },
      "execution_count": 51,
      "outputs": [
        {
          "output_type": "stream",
          "name": "stdout",
          "text": [
            "Enter first Number: 1\n",
            "Enter second Number: 2\n",
            "Enter Number of operator: \n",
            " 1.Addition \n",
            " 2.Subtraction \n",
            " 3.Multiplication \n",
            " 4.Division \n",
            " 5.Modulus\n",
            "4\n",
            "A= 1.0 B= 2.0 A/B= 0.5\n"
          ]
        }
      ]
    }
  ]
}